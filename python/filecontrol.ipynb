{
 "cells": [
  {
   "cell_type": "code",
   "execution_count": 1,
   "id": "6fbaafde",
   "metadata": {},
   "outputs": [],
   "source": [
    "# 쓰기\n",
    "f = open('text.txt', 'w')\n",
    "f.write('abcdefg')\n",
    "f.close()"
   ]
  },
  {
   "cell_type": "code",
   "execution_count": 4,
   "id": "499f29a3",
   "metadata": {},
   "outputs": [],
   "source": [
    "# 추가\n",
    "f = open('text.txt', 'a')\n",
    "f.write('.000')\n",
    "f.close()"
   ]
  },
  {
   "cell_type": "code",
   "execution_count": 7,
   "id": "7344a139",
   "metadata": {},
   "outputs": [
    {
     "name": "stdout",
     "output_type": "stream",
     "text": [
      "abcdefg012345.000\n",
      "['abcdefg012345', '000']\n"
     ]
    }
   ],
   "source": [
    "# 추가\n",
    "f = open('text.txt', 'r')\n",
    "data = f.read()\n",
    "print(data)\n",
    "list_temp = data.split('.')\n",
    "print(list_temp)\n",
    "f.close()"
   ]
  },
  {
   "cell_type": "code",
   "execution_count": 11,
   "id": "004a0892",
   "metadata": {},
   "outputs": [
    {
     "name": "stdout",
     "output_type": "stream",
     "text": [
      "이름,전화번호,등번호\n",
      "손흥민,010-1111-2222,7\n",
      "이강인,010-1111-2223,19\n",
      "김민재,010-1111-2224,20\n",
      "\n",
      "<class 'str'>\n"
     ]
    }
   ],
   "source": [
    "# csv\n",
    "f = open('list.csv', 'r')\n",
    "data = f.read()\n",
    "f.close()\n",
    "print(data)\n",
    "print(type(data))"
   ]
  },
  {
   "cell_type": "code",
   "execution_count": 13,
   "id": "ddc1331a",
   "metadata": {},
   "outputs": [
    {
     "name": "stdout",
     "output_type": "stream",
     "text": [
      "['이름', '전화번호', '등번호']\n",
      "['손흥민', '010-1111-2222', '7']\n",
      "['이강인', '010-1111-2223', '19']\n",
      "['김민재', '010-1111-2224', '20']\n"
     ]
    }
   ],
   "source": [
    "import csv\n",
    "# read : 행의 데이터 -> list\n",
    "f = open('list.csv', 'r')\n",
    "data = csv.reader(f)\n",
    "\n",
    "for i in data :\n",
    "    print(i)\n",
    "f.close()"
   ]
  },
  {
   "cell_type": "code",
   "execution_count": 4,
   "id": "c2fa04fa",
   "metadata": {},
   "outputs": [
    {
     "data": {
      "text/html": [
       "<div>\n",
       "<style scoped>\n",
       "    .dataframe tbody tr th:only-of-type {\n",
       "        vertical-align: middle;\n",
       "    }\n",
       "\n",
       "    .dataframe tbody tr th {\n",
       "        vertical-align: top;\n",
       "    }\n",
       "\n",
       "    .dataframe thead th {\n",
       "        text-align: right;\n",
       "    }\n",
       "</style>\n",
       "<table border=\"1\" class=\"dataframe\">\n",
       "  <thead>\n",
       "    <tr style=\"text-align: right;\">\n",
       "      <th></th>\n",
       "      <th>이름</th>\n",
       "      <th>전화번호</th>\n",
       "      <th>등번호</th>\n",
       "    </tr>\n",
       "  </thead>\n",
       "  <tbody>\n",
       "    <tr>\n",
       "      <th>0</th>\n",
       "      <td>손흥민</td>\n",
       "      <td>010-1111-2222</td>\n",
       "      <td>7</td>\n",
       "    </tr>\n",
       "    <tr>\n",
       "      <th>1</th>\n",
       "      <td>이강인</td>\n",
       "      <td>010-1111-2223</td>\n",
       "      <td>19</td>\n",
       "    </tr>\n",
       "    <tr>\n",
       "      <th>2</th>\n",
       "      <td>김민재</td>\n",
       "      <td>010-1111-2224</td>\n",
       "      <td>20</td>\n",
       "    </tr>\n",
       "  </tbody>\n",
       "</table>\n",
       "</div>"
      ],
      "text/plain": [
       "    이름           전화번호  등번호\n",
       "0  손흥민  010-1111-2222    7\n",
       "1  이강인  010-1111-2223   19\n",
       "2  김민재  010-1111-2224   20"
      ]
     },
     "execution_count": 4,
     "metadata": {},
     "output_type": "execute_result"
    }
   ],
   "source": [
    "# pandas csv read\n",
    "import pandas as pd\n",
    "\n",
    "data = pd.read_csv('list.csv', encoding = 'cp949')\n",
    "data"
   ]
  },
  {
   "cell_type": "code",
   "execution_count": 1,
   "id": "559db83d",
   "metadata": {},
   "outputs": [
    {
     "name": "stdout",
     "output_type": "stream",
     "text": [
      ">>>>> <Worksheet \"list\">\n",
      "(<Cell 'list'.A1>, <Cell 'list'.B1>, <Cell 'list'.C1>)\n",
      "이름\n",
      "전화번호\n",
      "등번호\n",
      "--------------\n",
      "(<Cell 'list'.A2>, <Cell 'list'.B2>, <Cell 'list'.C2>)\n",
      "손흥민\n",
      "010-1111-2222\n",
      "7\n",
      "--------------\n",
      "(<Cell 'list'.A3>, <Cell 'list'.B3>, <Cell 'list'.C3>)\n",
      "이강인\n",
      "010-1111-2223\n",
      "19\n",
      "--------------\n",
      "(<Cell 'list'.A4>, <Cell 'list'.B4>, <Cell 'list'.C4>)\n",
      "김민재\n",
      "010-1111-2224\n",
      "20\n",
      "--------------\n"
     ]
    }
   ],
   "source": [
    "# xls, xlsx\n",
    "import openpyxl as xl\n",
    "\n",
    "data = xl.load_workbook('list.xlsx')\n",
    "sheet = data['list']\n",
    "print('>>>>>', sheet)\n",
    "\n",
    "for cell in sheet :\n",
    "    print(cell)\n",
    "    for i in cell :\n",
    "        print(i.value)\n",
    "    print('--------------')"
   ]
  },
  {
   "cell_type": "code",
   "execution_count": 5,
   "id": "7244e2c0",
   "metadata": {},
   "outputs": [
    {
     "data": {
      "text/html": [
       "<div>\n",
       "<style scoped>\n",
       "    .dataframe tbody tr th:only-of-type {\n",
       "        vertical-align: middle;\n",
       "    }\n",
       "\n",
       "    .dataframe tbody tr th {\n",
       "        vertical-align: top;\n",
       "    }\n",
       "\n",
       "    .dataframe thead th {\n",
       "        text-align: right;\n",
       "    }\n",
       "</style>\n",
       "<table border=\"1\" class=\"dataframe\">\n",
       "  <thead>\n",
       "    <tr style=\"text-align: right;\">\n",
       "      <th></th>\n",
       "      <th>이름</th>\n",
       "      <th>전화번호</th>\n",
       "      <th>등번호</th>\n",
       "    </tr>\n",
       "  </thead>\n",
       "  <tbody>\n",
       "    <tr>\n",
       "      <th>0</th>\n",
       "      <td>손흥민</td>\n",
       "      <td>010-1111-2222</td>\n",
       "      <td>7</td>\n",
       "    </tr>\n",
       "    <tr>\n",
       "      <th>1</th>\n",
       "      <td>이강인</td>\n",
       "      <td>010-1111-2223</td>\n",
       "      <td>19</td>\n",
       "    </tr>\n",
       "    <tr>\n",
       "      <th>2</th>\n",
       "      <td>김민재</td>\n",
       "      <td>010-1111-2224</td>\n",
       "      <td>20</td>\n",
       "    </tr>\n",
       "  </tbody>\n",
       "</table>\n",
       "</div>"
      ],
      "text/plain": [
       "    이름           전화번호  등번호\n",
       "0  손흥민  010-1111-2222    7\n",
       "1  이강인  010-1111-2223   19\n",
       "2  김민재  010-1111-2224   20"
      ]
     },
     "execution_count": 5,
     "metadata": {},
     "output_type": "execute_result"
    }
   ],
   "source": [
    "# pandas -> xls\n",
    "\n",
    "data = pd.read_excel('list.xlsx')\n",
    "data"
   ]
  },
  {
   "cell_type": "code",
   "execution_count": 9,
   "id": "476fd103",
   "metadata": {},
   "outputs": [],
   "source": [
    "# 파이썬 데이터 형식 그대로 저장 -> 읽기\n",
    "import pickle\n",
    "\n",
    "data = ['a', 'b', 'c']\n",
    "f = open('pickle_data.txt', 'wb')\n",
    "pickle.dump(data, f)\n",
    "f.close()"
   ]
  },
  {
   "cell_type": "code",
   "execution_count": 11,
   "id": "c4e39164",
   "metadata": {},
   "outputs": [
    {
     "name": "stdout",
     "output_type": "stream",
     "text": [
      "['a', 'b', 'c']\n",
      "<class 'list'>\n"
     ]
    }
   ],
   "source": [
    "f = open('pickle_data.txt', 'rb')\n",
    "data = pickle.load(f)\n",
    "print(data)\n",
    "print(type(data))"
   ]
  },
  {
   "cell_type": "code",
   "execution_count": 12,
   "id": "ff287233",
   "metadata": {},
   "outputs": [],
   "source": [
    "import requests"
   ]
  },
  {
   "cell_type": "code",
   "execution_count": 14,
   "id": "0b6369d2",
   "metadata": {},
   "outputs": [
    {
     "name": "stdout",
     "output_type": "stream",
     "text": [
      "<Response [200]>\n"
     ]
    }
   ],
   "source": [
    "url = 'https://www.naver.com'\n",
    "res = requests.get(url)\n",
    "print(res)\n"
   ]
  },
  {
   "cell_type": "code",
   "execution_count": 17,
   "id": "81a6ed5e",
   "metadata": {},
   "outputs": [
    {
     "name": "stdout",
     "output_type": "stream",
     "text": [
      "<class 'str'>\n"
     ]
    }
   ],
   "source": [
    "#print(res.text)\n",
    "print(type(res.text))"
   ]
  },
  {
   "cell_type": "code",
   "execution_count": 20,
   "id": "f67e291d",
   "metadata": {},
   "outputs": [
    {
     "name": "stdout",
     "output_type": "stream",
     "text": [
      "365\n",
      "6072\n"
     ]
    }
   ],
   "source": [
    "print(res.text.find('네이버'))\n",
    "print(res.text.find('로그인'))"
   ]
  },
  {
   "cell_type": "code",
   "execution_count": 22,
   "id": "f7f05bbb",
   "metadata": {},
   "outputs": [],
   "source": [
    "import bs4"
   ]
  },
  {
   "cell_type": "code",
   "execution_count": 25,
   "id": "2edd3b8d",
   "metadata": {
    "scrolled": true
   },
   "outputs": [
    {
     "name": "stdout",
     "output_type": "stream",
     "text": [
      "<html><body><div>안녕하세요</div></body></html>\n"
     ]
    }
   ],
   "source": [
    "data = \"<div>안녕하세요</div>\"\n",
    "soup = bs4.BeautifulSoup(data)\n",
    "print(soup)"
   ]
  },
  {
   "cell_type": "code",
   "execution_count": 27,
   "id": "57c54832",
   "metadata": {},
   "outputs": [
    {
     "name": "stdout",
     "output_type": "stream",
     "text": [
      "<div>안녕하세요</div>\n",
      "안녕하세요\n"
     ]
    }
   ],
   "source": [
    "# find : 특정 선택자를 통해서 해당 엘리먼트를 검색 -> 반환\n",
    "print(soup.find('div'))\n",
    "print(soup.find('div').text)"
   ]
  },
  {
   "cell_type": "code",
   "execution_count": 31,
   "id": "04013539",
   "metadata": {},
   "outputs": [
    {
     "name": "stdout",
     "output_type": "stream",
     "text": [
      "<Response [200]>\n",
      "<a class=\"issue\" data-clk=\"quickarticle\" href=\"https://news.naver.com/main/list.naver?mode=LPOD&amp;mid=sec&amp;sid1=001&amp;sid2=140&amp;oid=001&amp;isYeonhapFlash=Y&amp;aid=0013691289\">[2보] '성남FC 후원금 의혹' 이재명 검찰 출석</a>\n"
     ]
    }
   ],
   "source": [
    "import requests\n",
    "import bs4\n",
    "\n",
    "url = 'https://www.naver.com'\n",
    "res = requests.get(url)\n",
    "print(res)\n",
    "\n",
    "soup = bs4.BeautifulSoup(res.text)\n",
    "find_data = soup.find('a', attrs={'class', 'issue'})\n",
    "print(find_data)"
   ]
  }
 ],
 "metadata": {
  "kernelspec": {
   "display_name": "Python 3 (ipykernel)",
   "language": "python",
   "name": "python3"
  },
  "language_info": {
   "codemirror_mode": {
    "name": "ipython",
    "version": 3
   },
   "file_extension": ".py",
   "mimetype": "text/x-python",
   "name": "python",
   "nbconvert_exporter": "python",
   "pygments_lexer": "ipython3",
   "version": "3.9.13"
  }
 },
 "nbformat": 4,
 "nbformat_minor": 5
}
