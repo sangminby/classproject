{
 "cells": [
  {
   "cell_type": "code",
   "execution_count": 2,
   "id": "7bb8cfe7",
   "metadata": {},
   "outputs": [],
   "source": [
    "# 주석은 #을 쓴다\n",
    "# 숫자, 문자열, boolean, 리스트, 튜플\n",
    "\n",
    "# type() -> 데이터의 타입을 확인 함수"
   ]
  },
  {
   "cell_type": "code",
   "execution_count": 3,
   "id": "88e7bb70",
   "metadata": {},
   "outputs": [
    {
     "name": "stdout",
     "output_type": "stream",
     "text": [
      "<class 'str'>\n"
     ]
    }
   ],
   "source": [
    "print(type('Hello!!!'))"
   ]
  },
  {
   "cell_type": "code",
   "execution_count": 5,
   "id": "90808804",
   "metadata": {},
   "outputs": [
    {
     "name": "stdout",
     "output_type": "stream",
     "text": [
      "<class 'int'>\n"
     ]
    }
   ],
   "source": [
    "print(type(100))"
   ]
  },
  {
   "cell_type": "code",
   "execution_count": 7,
   "id": "26e6c1b9",
   "metadata": {},
   "outputs": [
    {
     "name": "stdout",
     "output_type": "stream",
     "text": [
      "<class 'float'>\n"
     ]
    }
   ],
   "source": [
    "print(type(3.14))"
   ]
  },
  {
   "cell_type": "code",
   "execution_count": 8,
   "id": "1efa59b8",
   "metadata": {},
   "outputs": [],
   "source": [
    "# str : 문자열 생성은 \"\", '' 로 만든다\n",
    "# \\문자를 통해서 \" \\\" \\' \\\\ \\t \\n \""
   ]
  },
  {
   "cell_type": "code",
   "execution_count": 10,
   "id": "cd6b2f10",
   "metadata": {},
   "outputs": [
    {
     "name": "stdout",
     "output_type": "stream",
     "text": [
      "\"안녕\" \t 하' 세' 요 \n",
      "\n",
      "안녕하세요!\n"
     ]
    }
   ],
   "source": [
    "print(\"\\\"안녕\\\" \\t 하\\' 세\\' 요 \\n\")\n",
    "print(\"안녕하세요!\")"
   ]
  },
  {
   "cell_type": "code",
   "execution_count": 11,
   "id": "6a2726c1",
   "metadata": {},
   "outputs": [
    {
     "name": "stdout",
     "output_type": "stream",
     "text": [
      "안녕하세요\n",
      "저는 손흥민입니다.\n",
      "영국에서 축구를 합니다.\n",
      "경기에서 골을 넣고 싶습니다.\n"
     ]
    }
   ],
   "source": [
    "print(\"\"\"안녕하세요\n",
    "저는 손흥민입니다.\n",
    "영국에서 축구를 합니다.\n",
    "경기에서 골을 넣고 싶습니다.\"\"\")"
   ]
  },
  {
   "cell_type": "code",
   "execution_count": 14,
   "id": "586ca91f",
   "metadata": {},
   "outputs": [
    {
     "name": "stdout",
     "output_type": "stream",
     "text": [
      "안녕하세요\n",
      "저는 손흥민입니다.영국에서 축구를 합니다.\n",
      "경기에서 골을 넣고 싶습니다.\n"
     ]
    }
   ],
   "source": [
    "print(\"\"\"\\\n",
    "안녕하세요\n",
    "저는 손흥민입니다.\\\n",
    "영국에서 축구를 합니다.\n",
    "경기에서 골을 넣고 싶습니다.\\\n",
    "\"\"\")"
   ]
  },
  {
   "cell_type": "code",
   "execution_count": 15,
   "id": "7597bea2",
   "metadata": {},
   "outputs": [],
   "source": [
    "# 문자열 + 문자열 -> 문자열\n",
    "# 문자열 + 숫자 -> 오류"
   ]
  },
  {
   "cell_type": "code",
   "execution_count": 17,
   "id": "38215966",
   "metadata": {},
   "outputs": [
    {
     "name": "stdout",
     "output_type": "stream",
     "text": [
      "안녕하세요\n"
     ]
    }
   ],
   "source": [
    "print('안녕' + '하세요')"
   ]
  },
  {
   "cell_type": "code",
   "execution_count": 18,
   "id": "d10f20bf",
   "metadata": {},
   "outputs": [
    {
     "ename": "TypeError",
     "evalue": "can only concatenate str (not \"int\") to str",
     "output_type": "error",
     "traceback": [
      "\u001b[1;31m---------------------------------------------------------------------------\u001b[0m",
      "\u001b[1;31mTypeError\u001b[0m                                 Traceback (most recent call last)",
      "\u001b[1;32m~\\AppData\\Local\\Temp\\ipykernel_7604\\1656375209.py\u001b[0m in \u001b[0;36m<module>\u001b[1;34m\u001b[0m\n\u001b[1;32m----> 1\u001b[1;33m \u001b[0mprint\u001b[0m\u001b[1;33m(\u001b[0m\u001b[1;34m'안녕'\u001b[0m \u001b[1;33m+\u001b[0m \u001b[1;36m10\u001b[0m\u001b[1;33m)\u001b[0m\u001b[1;33m\u001b[0m\u001b[1;33m\u001b[0m\u001b[0m\n\u001b[0m",
      "\u001b[1;31mTypeError\u001b[0m: can only concatenate str (not \"int\") to str"
     ]
    }
   ],
   "source": [
    "print('안녕' + 10)"
   ]
  },
  {
   "cell_type": "code",
   "execution_count": 19,
   "id": "dc62483a",
   "metadata": {},
   "outputs": [
    {
     "name": "stdout",
     "output_type": "stream",
     "text": [
      "안녕안녕안녕\n"
     ]
    }
   ],
   "source": [
    "print('안녕' * 3)"
   ]
  },
  {
   "cell_type": "code",
   "execution_count": 20,
   "id": "9841be21",
   "metadata": {},
   "outputs": [],
   "source": [
    "# str -> 문자열들의 집합\n",
    "# 인덱싱 사용 -> 배열의 인덱스처럼 사용\n",
    "# 인덱스 : 0 ~ N-1"
   ]
  },
  {
   "cell_type": "code",
   "execution_count": 21,
   "id": "29a65d12",
   "metadata": {},
   "outputs": [
    {
     "name": "stdout",
     "output_type": "stream",
     "text": [
      "안\n",
      "녕\n",
      "하\n",
      "세\n",
      "요\n"
     ]
    }
   ],
   "source": [
    "print('안녕하세요'[0])\n",
    "print('안녕하세요'[1])\n",
    "print('안녕하세요'[2])\n",
    "print('안녕하세요'[3])\n",
    "print('안녕하세요'[4])"
   ]
  },
  {
   "cell_type": "code",
   "execution_count": 22,
   "id": "5011eaee",
   "metadata": {},
   "outputs": [
    {
     "ename": "IndexError",
     "evalue": "string index out of range",
     "output_type": "error",
     "traceback": [
      "\u001b[1;31m---------------------------------------------------------------------------\u001b[0m",
      "\u001b[1;31mIndexError\u001b[0m                                Traceback (most recent call last)",
      "\u001b[1;32m~\\AppData\\Local\\Temp\\ipykernel_7604\\1268038451.py\u001b[0m in \u001b[0;36m<module>\u001b[1;34m\u001b[0m\n\u001b[1;32m----> 1\u001b[1;33m \u001b[0mprint\u001b[0m\u001b[1;33m(\u001b[0m\u001b[1;34m'안녕하세요'\u001b[0m\u001b[1;33m[\u001b[0m\u001b[1;36m5\u001b[0m\u001b[1;33m]\u001b[0m\u001b[1;33m)\u001b[0m\u001b[1;33m\u001b[0m\u001b[1;33m\u001b[0m\u001b[0m\n\u001b[0m",
      "\u001b[1;31mIndexError\u001b[0m: string index out of range"
     ]
    }
   ],
   "source": [
    "print('안녕하세요'[5])"
   ]
  },
  {
   "cell_type": "code",
   "execution_count": 24,
   "id": "801d532a",
   "metadata": {},
   "outputs": [
    {
     "name": "stdout",
     "output_type": "stream",
     "text": [
      "요\n",
      "세\n",
      "하\n",
      "녕\n",
      "안\n"
     ]
    }
   ],
   "source": [
    "print('안녕하세요'[-1])\n",
    "print('안녕하세요'[-2])\n",
    "print('안녕하세요'[-3])\n",
    "print('안녕하세요'[-4])\n",
    "print('안녕하세요'[-5])"
   ]
  },
  {
   "cell_type": "code",
   "execution_count": 25,
   "id": "c450d027",
   "metadata": {},
   "outputs": [],
   "source": [
    "# [] -> 스라이싱 : 범위 선택\n",
    "# [ 시작인덱스 : 종료 위치 ] -> 시작 인덱스 ~ 종료위치 -1\n",
    "# -> [1 : 4] -> 1,2,3\n",
    "# [ 시작인덱스 : 종료 위치 ] -> 시작 인덱스 ~ 종료위치 -1\n",
    "# 시작 인덱스를 생략 경우 : [ : 4] -> 0 ~ 4-1\n",
    "# 종료 위치를 생략 경우 : [ 2 : ] 2 ~ 끝까지"
   ]
  },
  {
   "cell_type": "code",
   "execution_count": 26,
   "id": "e6b64f5a",
   "metadata": {},
   "outputs": [
    {
     "name": "stdout",
     "output_type": "stream",
     "text": [
      "녕하세\n"
     ]
    }
   ],
   "source": [
    "print('안녕하세요'[1:4])"
   ]
  },
  {
   "cell_type": "code",
   "execution_count": 27,
   "id": "930937f9",
   "metadata": {},
   "outputs": [
    {
     "name": "stdout",
     "output_type": "stream",
     "text": [
      "안녕하세\n"
     ]
    }
   ],
   "source": [
    "print('안녕하세요'[ : 4])"
   ]
  },
  {
   "cell_type": "code",
   "execution_count": 29,
   "id": "4f9cf5aa",
   "metadata": {},
   "outputs": [
    {
     "name": "stdout",
     "output_type": "stream",
     "text": [
      "하세요\n"
     ]
    }
   ],
   "source": [
    "print('안녕하세요'[2 : ])"
   ]
  },
  {
   "cell_type": "code",
   "execution_count": 30,
   "id": "788e1c43",
   "metadata": {},
   "outputs": [],
   "source": [
    "# 숫자타입\n",
    "# 정수 int, 실수 float\n",
    "# 사칙연산 -> +, -, *, /, %\n",
    "# 정수 나누기 : //\n",
    "# 제곱 연산 : **"
   ]
  },
  {
   "cell_type": "code",
   "execution_count": 34,
   "id": "d423e3b1",
   "metadata": {},
   "outputs": [
    {
     "name": "stdout",
     "output_type": "stream",
     "text": [
      "3\n",
      "3.3333333333333335\n",
      "3\n",
      "9\n"
     ]
    }
   ],
   "source": [
    "print(1+2)\n",
    "print(10/3)\n",
    "# 정수 결과만 나오는 나누기 연산\n",
    "print(10//3)\n",
    "# 제곱\n",
    "print(3**2)"
   ]
  },
  {
   "cell_type": "code",
   "execution_count": 35,
   "id": "d2b2ebfd",
   "metadata": {},
   "outputs": [],
   "source": [
    "# 변수 사용\n",
    "# 변수 = 데이터"
   ]
  },
  {
   "cell_type": "code",
   "execution_count": 42,
   "id": "18db605a",
   "metadata": {},
   "outputs": [],
   "source": [
    "pi = 3.14\n",
    "r = 2"
   ]
  },
  {
   "cell_type": "code",
   "execution_count": 43,
   "id": "49517e66",
   "metadata": {},
   "outputs": [
    {
     "name": "stdout",
     "output_type": "stream",
     "text": [
      "원주율 :  3.14 반지름 :  2\n"
     ]
    }
   ],
   "source": [
    "print('원주율 : ', pi, '반지름 : ',r)"
   ]
  },
  {
   "cell_type": "code",
   "execution_count": 44,
   "id": "43c95309",
   "metadata": {},
   "outputs": [],
   "source": [
    "# 캐스팅 함수\n",
    "# 문자열 -> 정수 : int()\n",
    "# 문자열 -> 실수 : float()\n",
    "# 숫자 -> 문자열 : str()"
   ]
  },
  {
   "cell_type": "code",
   "execution_count": null,
   "id": "e40dce5e",
   "metadata": {},
   "outputs": [],
   "source": [
    "# 문자열을 다루는 함수\n",
    "# format()\n",
    "# upper() lower()\n",
    "# strip() lstrip() rstrip()\n",
    "# find() \n",
    "# split()\n",
    "# is000\n",
    "# in 연산자"
   ]
  },
  {
   "cell_type": "code",
   "execution_count": 54,
   "id": "f5375b53",
   "metadata": {},
   "outputs": [
    {
     "name": "stdout",
     "output_type": "stream",
     "text": [
      "100 만원\n",
      "1 string True\n"
     ]
    }
   ],
   "source": [
    "# format : 문자열 포맷팅\n",
    "format_a = '{} 만원'.format(100)\n",
    "print(format_a)\n",
    "format_b = '{} {} {}'.format(1, 'string', True)\n",
    "print(format_b)"
   ]
  },
  {
   "cell_type": "code",
   "execution_count": 57,
   "id": "65c5fd5a",
   "metadata": {},
   "outputs": [
    {
     "name": "stdout",
     "output_type": "stream",
     "text": [
      "###   string   ###\n",
      "###string###\n",
      "###string   ###\n",
      "###   string###\n"
     ]
    }
   ],
   "source": [
    "# strip() lstrip() rstrip() : 공백 제거 해주는 함수\n",
    "str1 = '   string   '\n",
    "print('###' + str1 + '###')\n",
    "print('###' + str1.strip() + '###')\n",
    "print('###' + str1.lstrip() + '###')\n",
    "print('###' + str1.rstrip() + '###')"
   ]
  },
  {
   "cell_type": "code",
   "execution_count": 61,
   "id": "51dd4eef",
   "metadata": {},
   "outputs": [
    {
     "name": "stdout",
     "output_type": "stream",
     "text": [
      "2\n"
     ]
    }
   ],
   "source": [
    "# find() : 문자열을 포함하는 위치 인덱스 반환\n",
    "result1 = '안녕하세요'.find('하')\n",
    "print(result1)"
   ]
  },
  {
   "cell_type": "code",
   "execution_count": 66,
   "id": "d264af75",
   "metadata": {},
   "outputs": [
    {
     "name": "stdout",
     "output_type": "stream",
     "text": [
      "<class 'list'> ['1', '2', '3', '4', '5']\n"
     ]
    }
   ],
   "source": [
    "# split() : 문자열을 첨자로 나누고 각 나눠진 결과를 리스트로 반환\n",
    "list_1 = '1 2 3 4 5'.split(' ')\n",
    "print(type(list_1), list_1)"
   ]
  },
  {
   "cell_type": "code",
   "execution_count": null,
   "id": "78210eee",
   "metadata": {},
   "outputs": [],
   "source": [
    "# isOOO : 문자열의 구성 파악\n",
    "print('Test123!$'.isalnum())\n",
    "print('1000'.isdigit())"
   ]
  },
  {
   "cell_type": "code",
   "execution_count": 71,
   "id": "e0611175",
   "metadata": {},
   "outputs": [
    {
     "name": "stdout",
     "output_type": "stream",
     "text": [
      "True\n",
      "False\n"
     ]
    }
   ],
   "source": [
    "# in 연산자\n",
    "print('안녕' in '안녕하세요')\n",
    "print('바이' in '안녕하세요')"
   ]
  },
  {
   "cell_type": "code",
   "execution_count": null,
   "id": "ca1f95cc",
   "metadata": {},
   "outputs": [],
   "source": [
    "# 흐름제어\n",
    "# if\n",
    "\n",
    "# input 함수는 문자열을 반환\n",
    "num1 = input('정수 입력 >>> ')\n",
    "num2 = int(num1)\n",
    "\n",
    "if num2 > 0 : \n",
    "    print('양수')\n",
    "\n",
    "if num2 < 0 :\n",
    "    print('음수')\n",
    "    \n",
    "if num2 == 0 :\n",
    "    print('0')"
   ]
  },
  {
   "cell_type": "code",
   "execution_count": 80,
   "id": "4be2a5c7",
   "metadata": {},
   "outputs": [
    {
     "name": "stdout",
     "output_type": "stream",
     "text": [
      "정수 입력 >>> -1\n",
      "음수\n"
     ]
    }
   ],
   "source": [
    "# 흐름제어\n",
    "# if\n",
    "\n",
    "# input 함수는 문자열을 반환\n",
    "num1 = input('정수 입력 >>> ')\n",
    "num2 = int(num1)\n",
    "\n",
    "if num2 > 0 : \n",
    "    print('양수')\n",
    "elif num2 < 0 :\n",
    "    print('음수')\n",
    "else : \n",
    "    print('0')"
   ]
  },
  {
   "cell_type": "code",
   "execution_count": 76,
   "id": "3c29c46b",
   "metadata": {},
   "outputs": [
    {
     "name": "stdout",
     "output_type": "stream",
     "text": [
      "0은 False\n"
     ]
    }
   ],
   "source": [
    "# 0은 False\n",
    "\n",
    "if 0 :\n",
    "    print('0은 True')\n",
    "else :\n",
    "    print('0은 False')"
   ]
  },
  {
   "cell_type": "code",
   "execution_count": 75,
   "id": "622e6de3",
   "metadata": {},
   "outputs": [
    {
     "name": "stdout",
     "output_type": "stream",
     "text": [
      "공백 문자열은은 False\n"
     ]
    }
   ],
   "source": [
    "# 공백 문자열은 False\n",
    "\n",
    "if '' :\n",
    "    print('공백 문자열은 True')\n",
    "else :\n",
    "    print('공백 문자열은은 False')"
   ]
  },
  {
   "cell_type": "code",
   "execution_count": 74,
   "id": "9a5ee2ff",
   "metadata": {},
   "outputs": [
    {
     "name": "stdout",
     "output_type": "stream",
     "text": [
      "비어 있는 리스트는 False\n"
     ]
    }
   ],
   "source": [
    "# 비어 있는 리스트는 False\n",
    "\n",
    "if [] :\n",
    "    print('비어 있는 리스트는 True')\n",
    "else :\n",
    "    print('비어 있는 리스트는 False')"
   ]
  },
  {
   "cell_type": "code",
   "execution_count": 81,
   "id": "f5cc7862",
   "metadata": {},
   "outputs": [
    {
     "name": "stdout",
     "output_type": "stream",
     "text": [
      "비어 있는 리스트는 False\n"
     ]
    }
   ],
   "source": [
    "# None : 함수에서 반환 값이 없을 때 반환되는 값 -> False\n",
    "\n",
    "if [] :\n",
    "    print('비어 있는 리스트는 True')\n",
    "else :\n",
    "    print('비어 있는 리스트는 False')"
   ]
  },
  {
   "cell_type": "code",
   "execution_count": 85,
   "id": "a9cdbb36",
   "metadata": {},
   "outputs": [],
   "source": [
    "# pass 키워드\n",
    "\n",
    "num3 = 10\n",
    "\n",
    "if num3 > 0 :\n",
    "    pass\n",
    "else : \n",
    "    pass"
   ]
  },
  {
   "cell_type": "code",
   "execution_count": 95,
   "id": "9c7ac501",
   "metadata": {},
   "outputs": [
    {
     "name": "stdout",
     "output_type": "stream",
     "text": [
      "55\n",
      "문자열 열 문자\n",
      "True\n",
      "참\n",
      "[10, 900, 55, '문자열', False, False]\n"
     ]
    }
   ],
   "source": [
    "# list 자료형 : 배열과 비슷한 형태. 집합과 같이 데이터들을 묶어서 사용\n",
    "# 데이터들의 타입은 일치하지 않아도 된다\n",
    "#[] 사용, 인덱스 값을 통해서 참조\n",
    "\n",
    "list_temp = [10, 900, 55, '문자열', True, False]\n",
    "\n",
    "print(list_temp[2])\n",
    "print(list_temp[3], list_temp[3][2], list_temp[3][:2])\n",
    "print(list_temp[-2])\n",
    "\n",
    "if list_temp[-2] :\n",
    "    print('참')\n",
    "    list_temp[-2]=False\n",
    "    \n",
    "print(list_temp)\n",
    "\n",
    "# print(list_temp[12])"
   ]
  },
  {
   "cell_type": "code",
   "execution_count": 116,
   "id": "04194512",
   "metadata": {},
   "outputs": [],
   "source": [
    "# list 연산 : +, *\n",
    "# 함수 : len, extend(), append(), insert(), del(), remove(), clear()"
   ]
  },
  {
   "cell_type": "code",
   "execution_count": 115,
   "id": "a2fb54e8",
   "metadata": {},
   "outputs": [
    {
     "name": "stdout",
     "output_type": "stream",
     "text": [
      "[1, 2, 3, 4, 5, 6]\n",
      "[1, 2, 3]\n",
      "[4, 5, 6]\n",
      "list_a 리스트의 요소의 개수  3\n",
      "요소 추가  [1, 2, 3, 4]\n",
      "0번지에 10을 추가 [10, 1, 2, 3, 4]\n",
      "원본 리스트에 데이터 추가 [4, 5, 6, 133, 500, 874]\n",
      "삭제 del [4, 5, 6, 133, 874]\n",
      "삭제 pop [4, 5, 6, 133]\n",
      "삭제 remove [4, 5, 6]\n",
      "[1, 4, 5, 6, 7]\n",
      "[6, 7]\n",
      "전체 삭제 []\n",
      "True\n"
     ]
    }
   ],
   "source": [
    "# + 연산 : 리스트의 연결 -> 새로운 리스트 생성\n",
    "list_a = [1,2,3]\n",
    "list_b = [4,5,6]\n",
    "\n",
    "print(list_a + list_b)\n",
    "print(list_a)\n",
    "print(list_b)\n",
    "print('list_a 리스트의 요소의 개수 ', len(list_a))\n",
    "\n",
    "list_a.append(4)\n",
    "print('요소 추가 ', list_a)\n",
    "\n",
    "list_a.insert(0, 10)\n",
    "print('0번지에 10을 추가', list_a)\n",
    "\n",
    "list_b.extend([133, 500, 874])\n",
    "print('원본 리스트에 데이터 추가', list_b)\n",
    "\n",
    "del list_b[4]\n",
    "print('삭제 del', list_b)\n",
    "\n",
    "list_b.pop(4)\n",
    "print('삭제 pop', list_b)\n",
    "\n",
    "list_b.remove(133)\n",
    "print('삭제 remove', list_b)\n",
    "\n",
    "list_c = [1,2,3,4,5,6,7]\n",
    "del list_c[1:3]\n",
    "print(list_c)\n",
    "\n",
    "#[1, 4, 5, 6, 7]\n",
    "del list_c[ :3]\n",
    "print(list_c)\n",
    "\n",
    "list_c.clear()\n",
    "print('전체 삭제', list_c)\n",
    "\n",
    "print(5 in list_b)"
   ]
  },
  {
   "cell_type": "code",
   "execution_count": 1,
   "id": "c00aae64",
   "metadata": {},
   "outputs": [
    {
     "name": "stdout",
     "output_type": "stream",
     "text": [
      "0\n",
      "1\n",
      "2\n",
      "3\n",
      "4\n"
     ]
    },
    {
     "ename": "NameError",
     "evalue": "name 'list_b' is not defined",
     "output_type": "error",
     "traceback": [
      "\u001b[1;31m---------------------------------------------------------------------------\u001b[0m",
      "\u001b[1;31mNameError\u001b[0m                                 Traceback (most recent call last)",
      "\u001b[1;32m~\\AppData\\Local\\Temp\\ipykernel_11652\\1649504693.py\u001b[0m in \u001b[0;36m<module>\u001b[1;34m\u001b[0m\n\u001b[0;32m      4\u001b[0m     \u001b[0mprint\u001b[0m\u001b[1;33m(\u001b[0m\u001b[0mi\u001b[0m\u001b[1;33m)\u001b[0m\u001b[1;33m\u001b[0m\u001b[1;33m\u001b[0m\u001b[0m\n\u001b[0;32m      5\u001b[0m \u001b[1;33m\u001b[0m\u001b[0m\n\u001b[1;32m----> 6\u001b[1;33m \u001b[1;32mfor\u001b[0m \u001b[0mitem\u001b[0m \u001b[1;32min\u001b[0m \u001b[0mlist_b\u001b[0m \u001b[1;33m:\u001b[0m\u001b[1;33m\u001b[0m\u001b[1;33m\u001b[0m\u001b[0m\n\u001b[0m\u001b[0;32m      7\u001b[0m     \u001b[0mprint\u001b[0m\u001b[1;33m(\u001b[0m\u001b[0mitem\u001b[0m\u001b[1;33m)\u001b[0m\u001b[1;33m\u001b[0m\u001b[1;33m\u001b[0m\u001b[0m\n",
      "\u001b[1;31mNameError\u001b[0m: name 'list_b' is not defined"
     ]
    }
   ],
   "source": [
    "# for 반복문\n",
    "\n",
    "for i in range(5) :\n",
    "    print(i)\n",
    "    \n",
    "for item in list_b :\n",
    "    print(item)"
   ]
  },
  {
   "cell_type": "code",
   "execution_count": 3,
   "id": "d39a938c",
   "metadata": {},
   "outputs": [
    {
     "name": "stdout",
     "output_type": "stream",
     "text": [
      "<class 'dict'> {}\n"
     ]
    }
   ],
   "source": [
    "# 딕셔너리 : 리스트처럼 데이터를 묶음으로 저장\n",
    "#  저장 : key, value 형식으로 저장\n",
    "# 참조 : key 값으로 참조\n",
    "\n",
    "dic_a = {}\n",
    "print(type(dic_a), dic_a)"
   ]
  },
  {
   "cell_type": "code",
   "execution_count": 5,
   "id": "d747446e",
   "metadata": {},
   "outputs": [
    {
     "name": "stdout",
     "output_type": "stream",
     "text": [
      "[1, 2, 3, 4, 5, 1, 2, 3]\n",
      "{1, 2, 3, 4, 5}\n"
     ]
    }
   ],
   "source": [
    "dic_b = {1, 2, 3, 4, 5, 1, 2, 3}\n",
    "list_a1 = [1, 2, 3, 4, 5, 1, 2, 3]\n",
    "print(list_a1)\n",
    "print(dic_b)"
   ]
  },
  {
   "cell_type": "code",
   "execution_count": 8,
   "id": "909e0f69",
   "metadata": {},
   "outputs": [
    {
     "name": "stdout",
     "output_type": "stream",
     "text": [
      "{'no': 7, 'name': '손흥민'}\n",
      "7\n",
      "손흥민\n"
     ]
    }
   ],
   "source": [
    "dic_c = {\n",
    "    'no' : 7,\n",
    "    'name' : '손흥민'\n",
    "}\n",
    "print(dic_c)\n",
    "print(dic_c['no'])\n",
    "print(dic_c['name'])"
   ]
  },
  {
   "cell_type": "code",
   "execution_count": 9,
   "id": "1d27fdd5",
   "metadata": {},
   "outputs": [
    {
     "name": "stdout",
     "output_type": "stream",
     "text": [
      "{'no': 7, 'name': '손흥민', 'team': '토트넘'}\n"
     ]
    }
   ],
   "source": [
    "dic_c['team'] = '토트넘'\n",
    "print(dic_c)"
   ]
  },
  {
   "cell_type": "code",
   "execution_count": 10,
   "id": "71699a69",
   "metadata": {},
   "outputs": [
    {
     "name": "stdout",
     "output_type": "stream",
     "text": [
      "{'no': 7, 'name': '손흥민'}\n"
     ]
    }
   ],
   "source": [
    "del dic_c['team']\n",
    "print(dic_c)"
   ]
  },
  {
   "cell_type": "code",
   "execution_count": 12,
   "id": "041b5345",
   "metadata": {},
   "outputs": [
    {
     "ename": "KeyError",
     "evalue": "'team'",
     "output_type": "error",
     "traceback": [
      "\u001b[1;31m---------------------------------------------------------------------------\u001b[0m",
      "\u001b[1;31mKeyError\u001b[0m                                  Traceback (most recent call last)",
      "\u001b[1;32m~\\AppData\\Local\\Temp\\ipykernel_11652\\3681583083.py\u001b[0m in \u001b[0;36m<module>\u001b[1;34m\u001b[0m\n\u001b[1;32m----> 1\u001b[1;33m \u001b[0mprint\u001b[0m\u001b[1;33m(\u001b[0m\u001b[0mdic_c\u001b[0m\u001b[1;33m[\u001b[0m\u001b[1;34m'team'\u001b[0m\u001b[1;33m]\u001b[0m\u001b[1;33m)\u001b[0m\u001b[1;33m\u001b[0m\u001b[1;33m\u001b[0m\u001b[0m\n\u001b[0m",
      "\u001b[1;31mKeyError\u001b[0m: 'team'"
     ]
    }
   ],
   "source": [
    "print(dic_c['team'])"
   ]
  },
  {
   "cell_type": "code",
   "execution_count": 15,
   "id": "26ed1195",
   "metadata": {},
   "outputs": [
    {
     "name": "stdout",
     "output_type": "stream",
     "text": [
      "None\n"
     ]
    }
   ],
   "source": [
    "print(dic_c.get('team'))"
   ]
  },
  {
   "cell_type": "code",
   "execution_count": 17,
   "id": "4a7cf674",
   "metadata": {},
   "outputs": [
    {
     "name": "stdout",
     "output_type": "stream",
     "text": [
      "존재하지 않는 Key!!!\n"
     ]
    }
   ],
   "source": [
    "key = 'team'\n",
    "\n",
    "if key in dic_c :\n",
    "    print(dic_c[key])\n",
    "else : \n",
    "    print('존재하지 않는 Key!!!')"
   ]
  },
  {
   "cell_type": "code",
   "execution_count": 20,
   "id": "a752cef2",
   "metadata": {},
   "outputs": [
    {
     "name": "stdout",
     "output_type": "stream",
     "text": [
      "None\n",
      "존재하지 않는 Key!!!\n"
     ]
    }
   ],
   "source": [
    "playerName = dic_c.get('team')\n",
    "\n",
    "print(playerName)\n",
    "\n",
    "if playerName == None :\n",
    "    print('존재하지 않는 Key!!!')"
   ]
  },
  {
   "cell_type": "code",
   "execution_count": 22,
   "id": "a04143f6",
   "metadata": {},
   "outputs": [
    {
     "name": "stdout",
     "output_type": "stream",
     "text": [
      "no 7\n",
      "name 손흥민\n"
     ]
    }
   ],
   "source": [
    "for key in dic_c :\n",
    "    print(key, dic_c[key])"
   ]
  },
  {
   "cell_type": "code",
   "execution_count": null,
   "id": "d59e3712",
   "metadata": {},
   "outputs": [],
   "source": [
    "# range() : 특정 범위의 숫자를 생성\n",
    "# range(n) : 0 ~ n-1 범위의 숫자 생성\n",
    "# range(index, n) : index ~ n-1\n",
    "# range(index, n, step) : index ~ n-1, 증가하는 값을 step만큼 증가"
   ]
  },
  {
   "cell_type": "code",
   "execution_count": 29,
   "id": "1168abc6",
   "metadata": {},
   "outputs": [
    {
     "name": "stdout",
     "output_type": "stream",
     "text": [
      "<class 'range'> range(1, 10, 3)\n",
      "[1, 4, 7]\n",
      "반복\n",
      "반복\n",
      "반복\n"
     ]
    }
   ],
   "source": [
    "a = range(1, 10, 3)\n",
    "print(type(a), a)\n",
    "list_b = list(a)\n",
    "print(list_b)\n",
    "\n",
    "for i in a :\n",
    "    print('반복')"
   ]
  },
  {
   "cell_type": "code",
   "execution_count": 33,
   "id": "e865bfa9",
   "metadata": {},
   "outputs": [
    {
     "name": "stdout",
     "output_type": "stream",
     "text": [
      "1 1\n",
      "7 2\n",
      "17 3\n",
      "99 4\n",
      "14 5\n"
     ]
    }
   ],
   "source": [
    "list_c = [1, 7, 17, 99, 14]\n",
    "\n",
    "cnt = 0;\n",
    "\n",
    "for item in list_c :\n",
    "    cnt += 1\n",
    "    print(item, cnt)"
   ]
  },
  {
   "cell_type": "code",
   "execution_count": 35,
   "id": "82442740",
   "metadata": {},
   "outputs": [
    {
     "name": "stdout",
     "output_type": "stream",
     "text": [
      "1 1\n",
      "2 7\n",
      "3 17\n",
      "4 99\n",
      "5 14\n"
     ]
    }
   ],
   "source": [
    "for i in range(len(list_c)) :\n",
    "    print(i+1, list_c[i])"
   ]
  },
  {
   "cell_type": "code",
   "execution_count": 36,
   "id": "97e2d1cd",
   "metadata": {},
   "outputs": [
    {
     "name": "stdout",
     "output_type": "stream",
     "text": [
      "5\n",
      "4\n",
      "3\n",
      "2\n",
      "1\n"
     ]
    }
   ],
   "source": [
    "for i in range(5, 0, -1) :\n",
    "    print(i)"
   ]
  },
  {
   "cell_type": "code",
   "execution_count": 39,
   "id": "f1289856",
   "metadata": {},
   "outputs": [
    {
     "name": "stdout",
     "output_type": "stream",
     "text": [
      "5\n",
      "4\n",
      "3\n",
      "2\n",
      "1\n"
     ]
    }
   ],
   "source": [
    "for i in reversed(range(1, 5+1)) :\n",
    "    print(i)"
   ]
  },
  {
   "cell_type": "code",
   "execution_count": 40,
   "id": "7964502d",
   "metadata": {},
   "outputs": [
    {
     "name": "stdout",
     "output_type": "stream",
     "text": [
      "0\n",
      "1\n",
      "2\n",
      "3\n",
      "4\n",
      "5\n",
      "6\n",
      "7\n",
      "8\n",
      "9\n"
     ]
    }
   ],
   "source": [
    "# while : 반복문 -> 조건의 결과를 True로 하는 경우 사용\n",
    "\n",
    "i = 0;\n",
    "while i<10 :\n",
    "    print(i)\n",
    "    i += 1"
   ]
  },
  {
   "cell_type": "code",
   "execution_count": 43,
   "id": "15c1b83c",
   "metadata": {},
   "outputs": [
    {
     "name": "stdout",
     "output_type": "stream",
     "text": [
      "[1, 2, 1, 2]\n",
      "[2, 2]\n"
     ]
    }
   ],
   "source": [
    "list_d = [1, 2, 1, 2]\n",
    "print(list_d)\n",
    "#list_d.remove(1)\n",
    "\n",
    "while 1 in list_d :\n",
    "    list_d.remove(1)\n",
    "    \n",
    "print(list_d)"
   ]
  },
  {
   "cell_type": "code",
   "execution_count": null,
   "id": "8b0849c9",
   "metadata": {},
   "outputs": [],
   "source": [
    "# 함수 : input -> 처리 -> return\n",
    "# 매개변수 처리 -> 가변 매개변수, 매개변수의 기본 값\n",
    "# def 함수이름() : ... return"
   ]
  },
  {
   "cell_type": "code",
   "execution_count": 44,
   "id": "d0abbf96",
   "metadata": {},
   "outputs": [
    {
     "name": "stdout",
     "output_type": "stream",
     "text": [
      "안녕 !!!\n"
     ]
    }
   ],
   "source": [
    "def print_3() :\n",
    "    print('안녕 !!!')\n",
    "    print('안녕 !!!')\n",
    "    print('안녕 !!!')\n",
    "    \n",
    "print_3()"
   ]
  },
  {
   "cell_type": "code",
   "execution_count": 48,
   "id": "d2517e1e",
   "metadata": {},
   "outputs": [
    {
     "name": "stdout",
     "output_type": "stream",
     "text": [
      "Hello~##\n",
      "Hello~##\n",
      "Hello~##\n"
     ]
    },
    {
     "ename": "TypeError",
     "evalue": "print_times() missing 2 required positional arguments: 'value' and 'n'",
     "output_type": "error",
     "traceback": [
      "\u001b[1;31m---------------------------------------------------------------------------\u001b[0m",
      "\u001b[1;31mTypeError\u001b[0m                                 Traceback (most recent call last)",
      "\u001b[1;32m~\\AppData\\Local\\Temp\\ipykernel_11652\\3324428326.py\u001b[0m in \u001b[0;36m<module>\u001b[1;34m\u001b[0m\n\u001b[0;32m      4\u001b[0m \u001b[1;33m\u001b[0m\u001b[0m\n\u001b[0;32m      5\u001b[0m \u001b[0mprint_times\u001b[0m\u001b[1;33m(\u001b[0m\u001b[1;34m'Hello~##'\u001b[0m\u001b[1;33m,\u001b[0m \u001b[1;36m3\u001b[0m\u001b[1;33m)\u001b[0m\u001b[1;33m\u001b[0m\u001b[1;33m\u001b[0m\u001b[0m\n\u001b[1;32m----> 6\u001b[1;33m \u001b[0mprint_times\u001b[0m\u001b[1;33m(\u001b[0m\u001b[1;33m)\u001b[0m\u001b[1;33m\u001b[0m\u001b[1;33m\u001b[0m\u001b[0m\n\u001b[0m",
      "\u001b[1;31mTypeError\u001b[0m: print_times() missing 2 required positional arguments: 'value' and 'n'"
     ]
    }
   ],
   "source": [
    "def print_times(value, n) :\n",
    "    for i in range(n) :\n",
    "        print(value)\n",
    "        \n",
    "print_times('Hello~##', 3)\n",
    "print_times()"
   ]
  },
  {
   "cell_type": "code",
   "execution_count": 51,
   "id": "efc63688",
   "metadata": {},
   "outputs": [
    {
     "name": "stdout",
     "output_type": "stream",
     "text": [
      "a\n",
      "b\n",
      "c\n",
      "--------\n",
      "a\n",
      "b\n",
      "c\n",
      "--------\n",
      "a\n",
      "b\n",
      "c\n",
      "--------\n"
     ]
    }
   ],
   "source": [
    "def print_n_times(n, *values) :\n",
    "    for i in range(n) :\n",
    "        for value in values :\n",
    "            print(value)\n",
    "        print('--------')\n",
    "\n",
    "print_n_times(3, 'a', 'b', 'c')"
   ]
  },
  {
   "cell_type": "code",
   "execution_count": 54,
   "id": "201fa4c3",
   "metadata": {},
   "outputs": [
    {
     "name": "stdout",
     "output_type": "stream",
     "text": [
      "a\n",
      "b\n",
      "c\n",
      "--------\n"
     ]
    }
   ],
   "source": [
    "def print_n_times(*values, n=2) :\n",
    "    for i in range(n) :\n",
    "        for value in values :\n",
    "            print(value)\n",
    "        print('--------')\n",
    "\n",
    "print_n_times('a', 'b', 'c', n=1)"
   ]
  },
  {
   "cell_type": "code",
   "execution_count": 58,
   "id": "5835a0fd",
   "metadata": {},
   "outputs": [
    {
     "name": "stdout",
     "output_type": "stream",
     "text": [
      "60\n",
      "610\n",
      "120\n"
     ]
    }
   ],
   "source": [
    "def test(a, b=10, c=100) :\n",
    "    print(a+b+c)\n",
    "    \n",
    "test(10, 20, 30)\n",
    "test(c=10, b=100, a=500)\n",
    "test(10)"
   ]
  },
  {
   "cell_type": "code",
   "execution_count": 60,
   "id": "ea0d4108",
   "metadata": {},
   "outputs": [
    {
     "name": "stdout",
     "output_type": "stream",
     "text": [
      "5050\n",
      "55\n",
      "2550\n"
     ]
    }
   ],
   "source": [
    "def sum_all(start=0, end=100, step=1) :\n",
    "    \n",
    "    output = 0\n",
    "    \n",
    "    for i in range(start, end+1, step) :\n",
    "        \n",
    "        output += i\n",
    "        \n",
    "    return output\n",
    "\n",
    "print(sum_all())\n",
    "print(sum_all(end=10))\n",
    "print(sum_all(end=100, step=2))"
   ]
  }
 ],
 "metadata": {
  "kernelspec": {
   "display_name": "Python 3 (ipykernel)",
   "language": "python",
   "name": "python3"
  },
  "language_info": {
   "codemirror_mode": {
    "name": "ipython",
    "version": 3
   },
   "file_extension": ".py",
   "mimetype": "text/x-python",
   "name": "python",
   "nbconvert_exporter": "python",
   "pygments_lexer": "ipython3",
   "version": "3.9.13"
  }
 },
 "nbformat": 4,
 "nbformat_minor": 5
}
